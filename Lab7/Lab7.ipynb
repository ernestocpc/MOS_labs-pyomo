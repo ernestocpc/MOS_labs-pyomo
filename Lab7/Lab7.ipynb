{
 "cells": [
  {
   "cell_type": "code",
   "execution_count": 20,
   "metadata": {},
   "outputs": [],
   "source": [
    "import pandas as pd\n",
    "from sklearn.calibration import LabelEncoder\n",
    "from sklearn.linear_model import LinearRegression\n",
    "from sklearn.model_selection import train_test_split\n",
    "from sklearn.metrics import mean_squared_error\n",
    "import matplotlib.pyplot as plt\n"
   ]
  },
  {
   "cell_type": "markdown",
   "metadata": {},
   "source": [
    "### CARGA"
   ]
  },
  {
   "cell_type": "markdown",
   "metadata": {},
   "source": [
    "Para esta etapa simplemente se cargaron los datos de los cvs para los meses febrero a marzo y abril a mayo y se concatenaron en un unico dataframe. Se realizo una exploracion de datos simple para ver el numero de filas, columnas y el tipo de dato para cada columna. Tambien se realizo una .sample() para familiarizarse con los datos."
   ]
  },
  {
   "cell_type": "code",
   "execution_count": 21,
   "metadata": {},
   "outputs": [],
   "source": [
    "datos_feb_mar = pd.read_csv('datos_feb-mar.csv', sep=',', encoding='utf-8')\n",
    "datos_abril_may = pd.read_csv('datos_abril-may.csv', sep=',', encoding='utf-8')\n"
   ]
  },
  {
   "cell_type": "code",
   "execution_count": 22,
   "metadata": {},
   "outputs": [
    {
     "data": {
      "text/html": [
       "<div>\n",
       "<style scoped>\n",
       "    .dataframe tbody tr th:only-of-type {\n",
       "        vertical-align: middle;\n",
       "    }\n",
       "\n",
       "    .dataframe tbody tr th {\n",
       "        vertical-align: top;\n",
       "    }\n",
       "\n",
       "    .dataframe thead th {\n",
       "        text-align: right;\n",
       "    }\n",
       "</style>\n",
       "<table border=\"1\" class=\"dataframe\">\n",
       "  <thead>\n",
       "    <tr style=\"text-align: right;\">\n",
       "      <th></th>\n",
       "      <th>fecha_completa</th>\n",
       "      <th>MES</th>\n",
       "      <th>DIA</th>\n",
       "      <th>MODO_ACCESO</th>\n",
       "      <th>PORTERIA</th>\n",
       "      <th>RESULTADO_EVENTO</th>\n",
       "      <th>ROL</th>\n",
       "      <th>TIPO_ACCESO</th>\n",
       "    </tr>\n",
       "  </thead>\n",
       "  <tbody>\n",
       "    <tr>\n",
       "      <th>0</th>\n",
       "      <td>2/4/2019 0:53</td>\n",
       "      <td>Febrero</td>\n",
       "      <td>4</td>\n",
       "      <td>Peatonal</td>\n",
       "      <td>SD</td>\n",
       "      <td>Access Grant: Access Granted Local</td>\n",
       "      <td>VIGILANCIA                                    ...</td>\n",
       "      <td>IN</td>\n",
       "    </tr>\n",
       "    <tr>\n",
       "      <th>1</th>\n",
       "      <td>2/4/2019 0:55</td>\n",
       "      <td>Febrero</td>\n",
       "      <td>4</td>\n",
       "      <td>Peatonal</td>\n",
       "      <td>SD</td>\n",
       "      <td>Access Grant: Access Granted Local</td>\n",
       "      <td>VIGILANCIA                                    ...</td>\n",
       "      <td>OUT</td>\n",
       "    </tr>\n",
       "    <tr>\n",
       "      <th>2</th>\n",
       "      <td>2/4/2019 0:56</td>\n",
       "      <td>Febrero</td>\n",
       "      <td>4</td>\n",
       "      <td>Peatonal</td>\n",
       "      <td>SD</td>\n",
       "      <td>Access Grant: Access Granted Local</td>\n",
       "      <td>VIGILANCIA                                    ...</td>\n",
       "      <td>IN</td>\n",
       "    </tr>\n",
       "    <tr>\n",
       "      <th>3</th>\n",
       "      <td>2/4/2019 1:16</td>\n",
       "      <td>Febrero</td>\n",
       "      <td>4</td>\n",
       "      <td>Peatonal</td>\n",
       "      <td>SD</td>\n",
       "      <td>Access Grant: Access Granted Local</td>\n",
       "      <td>EMPLEADO                                      ...</td>\n",
       "      <td>IN</td>\n",
       "    </tr>\n",
       "    <tr>\n",
       "      <th>4</th>\n",
       "      <td>2/4/2019 1:29</td>\n",
       "      <td>Febrero</td>\n",
       "      <td>4</td>\n",
       "      <td>Peatonal</td>\n",
       "      <td>SD</td>\n",
       "      <td>Access Grant: Access Granted Local</td>\n",
       "      <td>VIGILANCIA                                    ...</td>\n",
       "      <td>OUT</td>\n",
       "    </tr>\n",
       "    <tr>\n",
       "      <th>...</th>\n",
       "      <td>...</td>\n",
       "      <td>...</td>\n",
       "      <td>...</td>\n",
       "      <td>...</td>\n",
       "      <td>...</td>\n",
       "      <td>...</td>\n",
       "      <td>...</td>\n",
       "      <td>...</td>\n",
       "    </tr>\n",
       "    <tr>\n",
       "      <th>1341128</th>\n",
       "      <td>5/29/2019 23:20</td>\n",
       "      <td>Mayo</td>\n",
       "      <td>29</td>\n",
       "      <td>Peatonal</td>\n",
       "      <td>SD</td>\n",
       "      <td>Access Grant: Access Granted Local</td>\n",
       "      <td>VIGILANCIA                                    ...</td>\n",
       "      <td>OUT</td>\n",
       "    </tr>\n",
       "    <tr>\n",
       "      <th>1341129</th>\n",
       "      <td>5/29/2019 23:24</td>\n",
       "      <td>Mayo</td>\n",
       "      <td>29</td>\n",
       "      <td>Peatonal</td>\n",
       "      <td>SD</td>\n",
       "      <td>Access Grant: Access Granted Local</td>\n",
       "      <td>VIGILANCIA                                    ...</td>\n",
       "      <td>IN</td>\n",
       "    </tr>\n",
       "    <tr>\n",
       "      <th>1341130</th>\n",
       "      <td>5/29/2019 23:24</td>\n",
       "      <td>Mayo</td>\n",
       "      <td>29</td>\n",
       "      <td>Peatonal</td>\n",
       "      <td>SD</td>\n",
       "      <td>Access Grant: Access Granted Local</td>\n",
       "      <td>VIGILANCIA                                    ...</td>\n",
       "      <td>IN</td>\n",
       "    </tr>\n",
       "    <tr>\n",
       "      <th>1341131</th>\n",
       "      <td>5/29/2019 23:30</td>\n",
       "      <td>Mayo</td>\n",
       "      <td>29</td>\n",
       "      <td>Peatonal</td>\n",
       "      <td>SD</td>\n",
       "      <td>Access Grant: Access Granted Local</td>\n",
       "      <td>VIGILANCIA                                    ...</td>\n",
       "      <td>OUT</td>\n",
       "    </tr>\n",
       "    <tr>\n",
       "      <th>1341132</th>\n",
       "      <td>5/29/2019 23:30</td>\n",
       "      <td>Mayo</td>\n",
       "      <td>29</td>\n",
       "      <td>Peatonal</td>\n",
       "      <td>SD</td>\n",
       "      <td>Access Grant: Access Granted Local</td>\n",
       "      <td>VIGILANCIA                                    ...</td>\n",
       "      <td>OUT</td>\n",
       "    </tr>\n",
       "  </tbody>\n",
       "</table>\n",
       "<p>1341133 rows × 8 columns</p>\n",
       "</div>"
      ],
      "text/plain": [
       "          fecha_completa      MES  DIA MODO_ACCESO  \\\n",
       "0          2/4/2019 0:53  Febrero    4    Peatonal   \n",
       "1          2/4/2019 0:55  Febrero    4    Peatonal   \n",
       "2          2/4/2019 0:56  Febrero    4    Peatonal   \n",
       "3          2/4/2019 1:16  Febrero    4    Peatonal   \n",
       "4          2/4/2019 1:29  Febrero    4    Peatonal   \n",
       "...                  ...      ...  ...         ...   \n",
       "1341128  5/29/2019 23:20     Mayo   29    Peatonal   \n",
       "1341129  5/29/2019 23:24     Mayo   29    Peatonal   \n",
       "1341130  5/29/2019 23:24     Mayo   29    Peatonal   \n",
       "1341131  5/29/2019 23:30     Mayo   29    Peatonal   \n",
       "1341132  5/29/2019 23:30     Mayo   29    Peatonal   \n",
       "\n",
       "                                 PORTERIA                    RESULTADO_EVENTO  \\\n",
       "0        SD                                Access Grant: Access Granted Local   \n",
       "1        SD                                Access Grant: Access Granted Local   \n",
       "2        SD                                Access Grant: Access Granted Local   \n",
       "3        SD                                Access Grant: Access Granted Local   \n",
       "4        SD                                Access Grant: Access Granted Local   \n",
       "...                                   ...                                 ...   \n",
       "1341128  SD                                Access Grant: Access Granted Local   \n",
       "1341129  SD                                Access Grant: Access Granted Local   \n",
       "1341130  SD                                Access Grant: Access Granted Local   \n",
       "1341131  SD                                Access Grant: Access Granted Local   \n",
       "1341132  SD                                Access Grant: Access Granted Local   \n",
       "\n",
       "                                                       ROL TIPO_ACCESO  \n",
       "0        VIGILANCIA                                    ...         IN   \n",
       "1        VIGILANCIA                                    ...         OUT  \n",
       "2        VIGILANCIA                                    ...         IN   \n",
       "3        EMPLEADO                                      ...         IN   \n",
       "4        VIGILANCIA                                    ...         OUT  \n",
       "...                                                    ...         ...  \n",
       "1341128  VIGILANCIA                                    ...         OUT  \n",
       "1341129  VIGILANCIA                                    ...         IN   \n",
       "1341130  VIGILANCIA                                    ...         IN   \n",
       "1341131  VIGILANCIA                                    ...         OUT  \n",
       "1341132  VIGILANCIA                                    ...         OUT  \n",
       "\n",
       "[1341133 rows x 8 columns]"
      ]
     },
     "execution_count": 22,
     "metadata": {},
     "output_type": "execute_result"
    }
   ],
   "source": [
    "# Join de los dos dataframes\n",
    "datos = pd.concat([datos_feb_mar, datos_abril_may], ignore_index=True)\n",
    "datos"
   ]
  },
  {
   "cell_type": "code",
   "execution_count": 23,
   "metadata": {},
   "outputs": [
    {
     "data": {
      "text/plain": [
       "(1341133, 8)"
      ]
     },
     "execution_count": 23,
     "metadata": {},
     "output_type": "execute_result"
    }
   ],
   "source": [
    "datos.shape"
   ]
  },
  {
   "cell_type": "code",
   "execution_count": 24,
   "metadata": {},
   "outputs": [
    {
     "data": {
      "text/plain": [
       "fecha_completa      object\n",
       "MES                 object\n",
       "DIA                  int64\n",
       "MODO_ACCESO         object\n",
       "PORTERIA            object\n",
       "RESULTADO_EVENTO    object\n",
       "ROL                 object\n",
       "TIPO_ACCESO         object\n",
       "dtype: object"
      ]
     },
     "execution_count": 24,
     "metadata": {},
     "output_type": "execute_result"
    }
   ],
   "source": [
    "datos.dtypes"
   ]
  },
  {
   "cell_type": "code",
   "execution_count": 25,
   "metadata": {},
   "outputs": [
    {
     "data": {
      "text/html": [
       "<div>\n",
       "<style scoped>\n",
       "    .dataframe tbody tr th:only-of-type {\n",
       "        vertical-align: middle;\n",
       "    }\n",
       "\n",
       "    .dataframe tbody tr th {\n",
       "        vertical-align: top;\n",
       "    }\n",
       "\n",
       "    .dataframe thead th {\n",
       "        text-align: right;\n",
       "    }\n",
       "</style>\n",
       "<table border=\"1\" class=\"dataframe\">\n",
       "  <thead>\n",
       "    <tr style=\"text-align: right;\">\n",
       "      <th></th>\n",
       "      <th>fecha_completa</th>\n",
       "      <th>MES</th>\n",
       "      <th>DIA</th>\n",
       "      <th>MODO_ACCESO</th>\n",
       "      <th>PORTERIA</th>\n",
       "      <th>RESULTADO_EVENTO</th>\n",
       "      <th>ROL</th>\n",
       "      <th>TIPO_ACCESO</th>\n",
       "    </tr>\n",
       "  </thead>\n",
       "  <tbody>\n",
       "    <tr>\n",
       "      <th>634711</th>\n",
       "      <td>3/19/2019 19:56</td>\n",
       "      <td>Marzo</td>\n",
       "      <td>19</td>\n",
       "      <td>Vehicular</td>\n",
       "      <td>SD</td>\n",
       "      <td>Access Grant: Access Granted Local</td>\n",
       "      <td>ESTUDIANTE                                    ...</td>\n",
       "      <td>OUT</td>\n",
       "    </tr>\n",
       "    <tr>\n",
       "      <th>1166724</th>\n",
       "      <td>5/8/2019 15:28</td>\n",
       "      <td>Mayo</td>\n",
       "      <td>8</td>\n",
       "      <td>Peatonal</td>\n",
       "      <td>SD</td>\n",
       "      <td>Access Grant: Access Granted Local</td>\n",
       "      <td>ESTUDIANTE</td>\n",
       "      <td>OUT</td>\n",
       "    </tr>\n",
       "    <tr>\n",
       "      <th>1031147</th>\n",
       "      <td>4/26/2019 12:35</td>\n",
       "      <td>Abril</td>\n",
       "      <td>26</td>\n",
       "      <td>Peatonal</td>\n",
       "      <td>SD</td>\n",
       "      <td>Access Grant: Access Granted Local</td>\n",
       "      <td>ESTUDIANTE</td>\n",
       "      <td>OUT</td>\n",
       "    </tr>\n",
       "    <tr>\n",
       "      <th>913874</th>\n",
       "      <td>4/11/2019 6:07</td>\n",
       "      <td>Abril</td>\n",
       "      <td>11</td>\n",
       "      <td>Vehicular</td>\n",
       "      <td>SD</td>\n",
       "      <td>Access Grant: Access Granted Local</td>\n",
       "      <td>ESTUDIANTE</td>\n",
       "      <td>IN</td>\n",
       "    </tr>\n",
       "    <tr>\n",
       "      <th>1043474</th>\n",
       "      <td>4/29/2019 6:24</td>\n",
       "      <td>Abril</td>\n",
       "      <td>29</td>\n",
       "      <td>Peatonal</td>\n",
       "      <td>SD</td>\n",
       "      <td>Access Grant: Access Granted Local</td>\n",
       "      <td>ESTUDIANTE</td>\n",
       "      <td>IN</td>\n",
       "    </tr>\n",
       "  </tbody>\n",
       "</table>\n",
       "</div>"
      ],
      "text/plain": [
       "          fecha_completa    MES  DIA MODO_ACCESO  \\\n",
       "634711   3/19/2019 19:56  Marzo   19   Vehicular   \n",
       "1166724   5/8/2019 15:28   Mayo    8    Peatonal   \n",
       "1031147  4/26/2019 12:35  Abril   26    Peatonal   \n",
       "913874    4/11/2019 6:07  Abril   11   Vehicular   \n",
       "1043474   4/29/2019 6:24  Abril   29    Peatonal   \n",
       "\n",
       "                                 PORTERIA                    RESULTADO_EVENTO  \\\n",
       "634711   SD                                Access Grant: Access Granted Local   \n",
       "1166724  SD                                Access Grant: Access Granted Local   \n",
       "1031147  SD                                Access Grant: Access Granted Local   \n",
       "913874   SD                                Access Grant: Access Granted Local   \n",
       "1043474  SD                                Access Grant: Access Granted Local   \n",
       "\n",
       "                                                       ROL TIPO_ACCESO  \n",
       "634711   ESTUDIANTE                                    ...         OUT  \n",
       "1166724                        ESTUDIANTE                          OUT  \n",
       "1031147                        ESTUDIANTE                          OUT  \n",
       "913874                         ESTUDIANTE                          IN   \n",
       "1043474                        ESTUDIANTE                          IN   "
      ]
     },
     "execution_count": 25,
     "metadata": {},
     "output_type": "execute_result"
    }
   ],
   "source": [
    "datos.sample(5)"
   ]
  },
  {
   "cell_type": "markdown",
   "metadata": {},
   "source": [
    "### LIMPIEZA"
   ]
  },
  {
   "cell_type": "markdown",
   "metadata": {},
   "source": [
    "Para este apartado se quitaron aquellas filas que tenian valores nulos, se contaron los duplicados y se observo que hay varios registros duplicados lo cual tiene sentido. Dado que la granularidad de la fecha esta por minuto, un registro duplicado podrian ser dos estudiantes entrando en un mismo minuto por un torniquete al SD, por esto se toma la decision de no borrar duplicados. \n",
    "Luego si miraron columna por columna los tipos de datos que podian tener y se encontro una incosistencia en la columna de 'ROL' en que habian roles repeditos ya fuera por diferencias en las mayusculas/minusculas o espacios en blanco por lo que se realizaron los ajustes necesarios.\n",
    "Tambien se transforma la columna TIPO_ACCESO a una binaria para poder hacer regresiones y curvas en pasos posteriores."
   ]
  },
  {
   "cell_type": "code",
   "execution_count": 26,
   "metadata": {},
   "outputs": [
    {
     "data": {
      "text/html": [
       "<div>\n",
       "<style scoped>\n",
       "    .dataframe tbody tr th:only-of-type {\n",
       "        vertical-align: middle;\n",
       "    }\n",
       "\n",
       "    .dataframe tbody tr th {\n",
       "        vertical-align: top;\n",
       "    }\n",
       "\n",
       "    .dataframe thead th {\n",
       "        text-align: right;\n",
       "    }\n",
       "</style>\n",
       "<table border=\"1\" class=\"dataframe\">\n",
       "  <thead>\n",
       "    <tr style=\"text-align: right;\">\n",
       "      <th></th>\n",
       "      <th>fecha_completa</th>\n",
       "      <th>MES</th>\n",
       "      <th>DIA</th>\n",
       "      <th>MODO_ACCESO</th>\n",
       "      <th>PORTERIA</th>\n",
       "      <th>RESULTADO_EVENTO</th>\n",
       "      <th>ROL</th>\n",
       "      <th>TIPO_ACCESO</th>\n",
       "    </tr>\n",
       "  </thead>\n",
       "  <tbody>\n",
       "    <tr>\n",
       "      <th>0</th>\n",
       "      <td>2/4/2019 0:53</td>\n",
       "      <td>Febrero</td>\n",
       "      <td>4</td>\n",
       "      <td>Peatonal</td>\n",
       "      <td>SD</td>\n",
       "      <td>Access Grant: Access Granted Local</td>\n",
       "      <td>VIGILANCIA                                    ...</td>\n",
       "      <td>IN</td>\n",
       "    </tr>\n",
       "    <tr>\n",
       "      <th>1</th>\n",
       "      <td>2/4/2019 0:55</td>\n",
       "      <td>Febrero</td>\n",
       "      <td>4</td>\n",
       "      <td>Peatonal</td>\n",
       "      <td>SD</td>\n",
       "      <td>Access Grant: Access Granted Local</td>\n",
       "      <td>VIGILANCIA                                    ...</td>\n",
       "      <td>OUT</td>\n",
       "    </tr>\n",
       "    <tr>\n",
       "      <th>2</th>\n",
       "      <td>2/4/2019 0:56</td>\n",
       "      <td>Febrero</td>\n",
       "      <td>4</td>\n",
       "      <td>Peatonal</td>\n",
       "      <td>SD</td>\n",
       "      <td>Access Grant: Access Granted Local</td>\n",
       "      <td>VIGILANCIA                                    ...</td>\n",
       "      <td>IN</td>\n",
       "    </tr>\n",
       "    <tr>\n",
       "      <th>3</th>\n",
       "      <td>2/4/2019 1:16</td>\n",
       "      <td>Febrero</td>\n",
       "      <td>4</td>\n",
       "      <td>Peatonal</td>\n",
       "      <td>SD</td>\n",
       "      <td>Access Grant: Access Granted Local</td>\n",
       "      <td>EMPLEADO                                      ...</td>\n",
       "      <td>IN</td>\n",
       "    </tr>\n",
       "    <tr>\n",
       "      <th>4</th>\n",
       "      <td>2/4/2019 1:29</td>\n",
       "      <td>Febrero</td>\n",
       "      <td>4</td>\n",
       "      <td>Peatonal</td>\n",
       "      <td>SD</td>\n",
       "      <td>Access Grant: Access Granted Local</td>\n",
       "      <td>VIGILANCIA                                    ...</td>\n",
       "      <td>OUT</td>\n",
       "    </tr>\n",
       "    <tr>\n",
       "      <th>...</th>\n",
       "      <td>...</td>\n",
       "      <td>...</td>\n",
       "      <td>...</td>\n",
       "      <td>...</td>\n",
       "      <td>...</td>\n",
       "      <td>...</td>\n",
       "      <td>...</td>\n",
       "      <td>...</td>\n",
       "    </tr>\n",
       "    <tr>\n",
       "      <th>1341128</th>\n",
       "      <td>5/29/2019 23:20</td>\n",
       "      <td>Mayo</td>\n",
       "      <td>29</td>\n",
       "      <td>Peatonal</td>\n",
       "      <td>SD</td>\n",
       "      <td>Access Grant: Access Granted Local</td>\n",
       "      <td>VIGILANCIA                                    ...</td>\n",
       "      <td>OUT</td>\n",
       "    </tr>\n",
       "    <tr>\n",
       "      <th>1341129</th>\n",
       "      <td>5/29/2019 23:24</td>\n",
       "      <td>Mayo</td>\n",
       "      <td>29</td>\n",
       "      <td>Peatonal</td>\n",
       "      <td>SD</td>\n",
       "      <td>Access Grant: Access Granted Local</td>\n",
       "      <td>VIGILANCIA                                    ...</td>\n",
       "      <td>IN</td>\n",
       "    </tr>\n",
       "    <tr>\n",
       "      <th>1341130</th>\n",
       "      <td>5/29/2019 23:24</td>\n",
       "      <td>Mayo</td>\n",
       "      <td>29</td>\n",
       "      <td>Peatonal</td>\n",
       "      <td>SD</td>\n",
       "      <td>Access Grant: Access Granted Local</td>\n",
       "      <td>VIGILANCIA                                    ...</td>\n",
       "      <td>IN</td>\n",
       "    </tr>\n",
       "    <tr>\n",
       "      <th>1341131</th>\n",
       "      <td>5/29/2019 23:30</td>\n",
       "      <td>Mayo</td>\n",
       "      <td>29</td>\n",
       "      <td>Peatonal</td>\n",
       "      <td>SD</td>\n",
       "      <td>Access Grant: Access Granted Local</td>\n",
       "      <td>VIGILANCIA                                    ...</td>\n",
       "      <td>OUT</td>\n",
       "    </tr>\n",
       "    <tr>\n",
       "      <th>1341132</th>\n",
       "      <td>5/29/2019 23:30</td>\n",
       "      <td>Mayo</td>\n",
       "      <td>29</td>\n",
       "      <td>Peatonal</td>\n",
       "      <td>SD</td>\n",
       "      <td>Access Grant: Access Granted Local</td>\n",
       "      <td>VIGILANCIA                                    ...</td>\n",
       "      <td>OUT</td>\n",
       "    </tr>\n",
       "  </tbody>\n",
       "</table>\n",
       "<p>1341133 rows × 8 columns</p>\n",
       "</div>"
      ],
      "text/plain": [
       "          fecha_completa      MES  DIA MODO_ACCESO  \\\n",
       "0          2/4/2019 0:53  Febrero    4    Peatonal   \n",
       "1          2/4/2019 0:55  Febrero    4    Peatonal   \n",
       "2          2/4/2019 0:56  Febrero    4    Peatonal   \n",
       "3          2/4/2019 1:16  Febrero    4    Peatonal   \n",
       "4          2/4/2019 1:29  Febrero    4    Peatonal   \n",
       "...                  ...      ...  ...         ...   \n",
       "1341128  5/29/2019 23:20     Mayo   29    Peatonal   \n",
       "1341129  5/29/2019 23:24     Mayo   29    Peatonal   \n",
       "1341130  5/29/2019 23:24     Mayo   29    Peatonal   \n",
       "1341131  5/29/2019 23:30     Mayo   29    Peatonal   \n",
       "1341132  5/29/2019 23:30     Mayo   29    Peatonal   \n",
       "\n",
       "                                 PORTERIA                    RESULTADO_EVENTO  \\\n",
       "0        SD                                Access Grant: Access Granted Local   \n",
       "1        SD                                Access Grant: Access Granted Local   \n",
       "2        SD                                Access Grant: Access Granted Local   \n",
       "3        SD                                Access Grant: Access Granted Local   \n",
       "4        SD                                Access Grant: Access Granted Local   \n",
       "...                                   ...                                 ...   \n",
       "1341128  SD                                Access Grant: Access Granted Local   \n",
       "1341129  SD                                Access Grant: Access Granted Local   \n",
       "1341130  SD                                Access Grant: Access Granted Local   \n",
       "1341131  SD                                Access Grant: Access Granted Local   \n",
       "1341132  SD                                Access Grant: Access Granted Local   \n",
       "\n",
       "                                                       ROL TIPO_ACCESO  \n",
       "0        VIGILANCIA                                    ...         IN   \n",
       "1        VIGILANCIA                                    ...         OUT  \n",
       "2        VIGILANCIA                                    ...         IN   \n",
       "3        EMPLEADO                                      ...         IN   \n",
       "4        VIGILANCIA                                    ...         OUT  \n",
       "...                                                    ...         ...  \n",
       "1341128  VIGILANCIA                                    ...         OUT  \n",
       "1341129  VIGILANCIA                                    ...         IN   \n",
       "1341130  VIGILANCIA                                    ...         IN   \n",
       "1341131  VIGILANCIA                                    ...         OUT  \n",
       "1341132  VIGILANCIA                                    ...         OUT  \n",
       "\n",
       "[1341133 rows x 8 columns]"
      ]
     },
     "execution_count": 26,
     "metadata": {},
     "output_type": "execute_result"
    }
   ],
   "source": [
    "datos.dropna()"
   ]
  },
  {
   "cell_type": "code",
   "execution_count": 27,
   "metadata": {},
   "outputs": [
    {
     "data": {
      "text/plain": [
       "(1341133, 8)"
      ]
     },
     "execution_count": 27,
     "metadata": {},
     "output_type": "execute_result"
    }
   ],
   "source": [
    "datos.shape"
   ]
  },
  {
   "cell_type": "code",
   "execution_count": 28,
   "metadata": {},
   "outputs": [
    {
     "data": {
      "text/plain": [
       "920753"
      ]
     },
     "execution_count": 28,
     "metadata": {},
     "output_type": "execute_result"
    }
   ],
   "source": [
    "# Contar duplicados\n",
    "datos.duplicated().sum()\n"
   ]
  },
  {
   "cell_type": "code",
   "execution_count": 29,
   "metadata": {},
   "outputs": [
    {
     "data": {
      "text/plain": [
       "RESULTADO_EVENTO\n",
       "Access Grant: Access Granted Local      1339657\n",
       "Access Grant: Executive Privilege          1398\n",
       "Access Grant: Access Granted Central         51\n",
       "Access Grant: Entry Granted Central          20\n",
       "Access Grant: Exit Granted Central            7\n",
       "Name: count, dtype: int64"
      ]
     },
     "execution_count": 29,
     "metadata": {},
     "output_type": "execute_result"
    }
   ],
   "source": [
    "datos['RESULTADO_EVENTO'].value_counts()"
   ]
  },
  {
   "cell_type": "code",
   "execution_count": 30,
   "metadata": {},
   "outputs": [
    {
     "data": {
      "text/plain": [
       "ROL\n",
       "estudiante     1018835\n",
       "empleado        186169\n",
       "exalumno         45426\n",
       "vigilancia       42346\n",
       "contratista      30138\n",
       "aseo             14400\n",
       "invitado          2147\n",
       "consejo            540\n",
       "pensionado         405\n",
       "deportes           369\n",
       "fundacion          130\n",
       "exalunmo           108\n",
       "especial           104\n",
       "amigo                9\n",
       "exlaumno             5\n",
       "concesiones          2\n",
       "Name: count, dtype: int64"
      ]
     },
     "execution_count": 30,
     "metadata": {},
     "output_type": "execute_result"
    }
   ],
   "source": [
    "datos['ROL'] = datos['ROL'].str.lower()\n",
    "datos['ROL'] = datos['ROL'].str.strip()\n",
    "datos['ROL'].value_counts()"
   ]
  },
  {
   "cell_type": "code",
   "execution_count": 31,
   "metadata": {},
   "outputs": [
    {
     "data": {
      "text/plain": [
       "TIPO_ACCESO\n",
       "IN     690986\n",
       "OUT    650147\n",
       "Name: count, dtype: int64"
      ]
     },
     "execution_count": 31,
     "metadata": {},
     "output_type": "execute_result"
    }
   ],
   "source": [
    "datos['TIPO_ACCESO'].value_counts()"
   ]
  },
  {
   "cell_type": "code",
   "execution_count": 32,
   "metadata": {},
   "outputs": [
    {
     "data": {
      "text/plain": [
       "TIPO_ACCESO_BINARIO\n",
       "0    690986\n",
       "1    650147\n",
       "Name: count, dtype: int64"
      ]
     },
     "execution_count": 32,
     "metadata": {},
     "output_type": "execute_result"
    }
   ],
   "source": [
    "\n",
    "codificacion = LabelEncoder()\n",
    "datos['TIPO_ACCESO_BINARIO'] = codificacion.fit_transform(datos['TIPO_ACCESO'])\n",
    "datos['TIPO_ACCESO_BINARIO'].value_counts()"
   ]
  },
  {
   "cell_type": "markdown",
   "metadata": {},
   "source": [
    "### VISUALIZACION"
   ]
  },
  {
   "cell_type": "markdown",
   "metadata": {},
   "source": [
    "Con los datos limpios se busca generar graficas para entender mejor el comportamiento de estas. Se genero 1 grafica correspondiente a el numero de accesos por hora al edificio (Ya sea IN o OUT) con el fin de observar el flujo en el sistema y la hora pico. Con la grafica creada se observara claramente que el pico de trafico en el sistema es a medio dia con otros picos a la 1pm y 9am."
   ]
  },
  {
   "cell_type": "code",
   "execution_count": 33,
   "metadata": {},
   "outputs": [
    {
     "data": {
      "text/plain": [
       "0           0\n",
       "1           0\n",
       "2           0\n",
       "3           1\n",
       "4           1\n",
       "           ..\n",
       "1341128    23\n",
       "1341129    23\n",
       "1341130    23\n",
       "1341131    23\n",
       "1341132    23\n",
       "Name: hora, Length: 1341133, dtype: int32"
      ]
     },
     "execution_count": 33,
     "metadata": {},
     "output_type": "execute_result"
    }
   ],
   "source": [
    "# Create colum hour that groups fecha_completa by hour\n",
    "datos['hora'] = pd.to_datetime(datos['fecha_completa']).dt.hour\n",
    "datos['hora']"
   ]
  },
  {
   "cell_type": "code",
   "execution_count": 34,
   "metadata": {},
   "outputs": [
    {
     "data": {
      "image/png": "[encoded data removed]",
      "text/plain": [
       "<Figure size 640x480 with 1 Axes>"
      ]
     },
     "metadata": {},
     "output_type": "display_data"
    }
   ],
   "source": [
    "datos.groupby('hora')['TIPO_ACCESO'].count().plot(kind='bar')\n",
    "plt.title('Accesos por hora')\n",
    "plt.xlabel('Hora')\n",
    "plt.ylabel('Accesos')\n",
    "plt.show()\n"
   ]
  },
  {
   "cell_type": "markdown",
   "metadata": {},
   "source": [
    "### ESTADISTICAS CLAVE"
   ]
  },
  {
   "cell_type": "markdown",
   "metadata": {},
   "source": [
    "La siguiente grafica nos muestra la tasa de acceso, por tipo de acceso IN/OUT en todas las horas del dia. De aqui podemos ver que en la hora pico detectada anteriormente se tiene casi un 50/50 de distribucion entre accesos de entrada y salida. Mientras que en otros momentos como a las 6am la tasa de entrada es casi del 80%.\n",
    "\n",
    "La segunda grafica muestra como se distribuye el acceso al edificio por roles a cada hora del dia. Evidentemente, el mayor porcentaje de accesos corresponde a estudiantes pero se puede observar que en la mañana y hacia medio dia tambien hay bastante ingreso de personal. "
   ]
  },
  {
   "cell_type": "code",
   "execution_count": 35,
   "metadata": {},
   "outputs": [
    {
     "data": {
      "image/png": "[encoded data removed]",
      "text/plain": [
       "<Figure size 640x480 with 1 Axes>"
      ]
     },
     "metadata": {},
     "output_type": "display_data"
    }
   ],
   "source": [
    "# Obtener tasa promedio de salidas y entradas por hora \n",
    "ax = datos.groupby('hora')['TIPO_ACCESO'].value_counts(normalize=True).unstack().plot(kind='bar', stacked=True)\n",
    "plt.title('Tipos de acceso por hora')\n",
    "plt.xlabel('Hora')\n",
    "plt.ylabel('Porcentaje de acceso')\n",
    "plt.legend(title='Tipo de acceso')\n",
    "\n",
    "# Add data labels\n",
    "for p in ax.patches:\n",
    "    width, height = p.get_width(), p.get_height()\n",
    "    x, y = p.get_xy() \n",
    "    ax.text(x+width/2, \n",
    "            y+height/2, \n",
    "            '{:.0%}'.format(height), \n",
    "            fontsize=9,\n",
    "            horizontalalignment='center', \n",
    "            verticalalignment='center')\n",
    "\n",
    "plt.show()\n"
   ]
  },
  {
   "cell_type": "code",
   "execution_count": 36,
   "metadata": {},
   "outputs": [
    {
     "data": {
      "image/png": "[encoded data removed]",
      "text/plain": [
       "<Figure size 640x480 with 1 Axes>"
      ]
     },
     "metadata": {},
     "output_type": "display_data"
    }
   ],
   "source": [
    "# Cuenta tipos de roles por hora\n",
    "datos.groupby('hora')['ROL'].value_counts().unstack().plot(kind='bar', stacked=True)\n",
    "plt.title('Acceso de roles por hora')\n",
    "plt.xlabel('Hora')\n",
    "plt.ylabel('Rol de acceso')\n",
    "plt.legend(loc='center left', bbox_to_anchor=(1.0, 0.5))\n",
    "plt.show()"
   ]
  },
  {
   "cell_type": "code",
   "execution_count": 37,
   "metadata": {},
   "outputs": [
    {
     "name": "stdout",
     "output_type": "stream",
     "text": [
      "Informe de clasificación:\n",
      "              precision    recall  f1-score   support\n",
      "\n",
      "           0       0.56      0.65      0.60    207482\n",
      "           1       0.55      0.45      0.49    194858\n",
      "\n",
      "    accuracy                           0.55    402340\n",
      "   macro avg       0.55      0.55      0.55    402340\n",
      "weighted avg       0.55      0.55      0.55    402340\n",
      "\n"
     ]
    },
    {
     "data": {
      "image/png": "[encoded data removed]",
      "text/plain": [
       "<Figure size 1000x600 with 1 Axes>"
      ]
     },
     "metadata": {},
     "output_type": "display_data"
    }
   ],
   "source": [
    "import numpy as np\n",
    "import pandas as pd\n",
    "import matplotlib.pyplot as plt\n",
    "from sklearn.linear_model import LogisticRegression\n",
    "from sklearn.model_selection import train_test_split\n",
    "from sklearn.metrics import accuracy_score, confusion_matrix, classification_report\n",
    "\n",
    "# División de los datos en conjuntos de entrenamiento y prueba\n",
    "X_train, X_test, y_train, y_test = train_test_split(datos[['hora']], datos['TIPO_ACCESO_BINARIO'], test_size=0.3, random_state=0)\n",
    "\n",
    "# Regresión logística\n",
    "logistic_model = LogisticRegression()\n",
    "logistic_model.fit(X_train, y_train)\n",
    "predictions = logistic_model.predict(X_test)\n",
    "\n",
    "\n",
    "# Gráfico de los datos reales y las predicciones\n",
    "plt.figure(figsize=(10, 6))\n",
    "plt.scatter(datos[['hora']], datos['TIPO_ACCESO_BINARIO'], label='Datos reales', color='blue', marker='o')\n",
    "plt.scatter(X_test, predictions, label='Predicciones', color='red', marker='x')\n",
    "plt.xlabel('Día')\n",
    "plt.ylabel('Entradas (0 o 1)')\n",
    "plt.title('Regresión Logística para Predicción Binaria')\n",
    "plt.legend()\n",
    "plt.show()"
   ]
  }
 ],
 "metadata": {
  "kernelspec": {
   "display_name": "Python 3",
   "language": "python",
   "name": "python3"
  },
  "language_info": {
   "codemirror_mode": {
    "name": "ipython",
    "version": 3
   },
   "file_extension": ".py",
   "mimetype": "text/x-python",
   "name": "python",
   "nbconvert_exporter": "python",
   "pygments_lexer": "ipython3",
   "version": "3.12.1"
  }
 },
 "nbformat": 4,
 "nbformat_minor": 2
}
